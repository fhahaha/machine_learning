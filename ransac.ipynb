{
 "cells": [
  {
   "cell_type": "markdown",
   "metadata": {},
   "source": [
    "# Ransac"
   ]
  },
  {
   "cell_type": "markdown",
   "metadata": {},
   "source": [
    "全名 random sample consensus， 通过使用观测数据来估计数学模型参数的迭代方法。 将数据点分为inlier 和 outlier。使用inlier 来估计模型参数。（对比最小二乘方法，是拟合所有的点）\n",
    "\n",
    "算法步骤：\n",
    "1） 随机选择样本子集，样本子集的数量是最小能估计模型参数的样本个数（例如拟合直线，至少需要两个点），通过子集拟合模型参数；\n",
    "2） 计算数据集样本点和模型之间的偏差，如果偏差大于阈值，对应的样本为outlier。 用得到的inlier拟合迭代模型；\n",
    "3） 一直迭代直到获得足够的inliers（有足够的点都是有“一致性”）； "
   ]
  },
  {
   "cell_type": "markdown",
   "metadata": {},
   "source": [
    "一些需要考虑的超参数：\n",
    "// ToDo"
   ]
  },
  {
   "cell_type": "code",
   "execution_count": 1,
   "metadata": {},
   "outputs": [],
   "source": [
    "import numpy as np"
   ]
  },
  {
   "cell_type": "code",
   "execution_count": 2,
   "metadata": {},
   "outputs": [],
   "source": [
    "import matplotlib.pyplot as plt"
   ]
  },
  {
   "cell_type": "code",
   "execution_count": 3,
   "metadata": {},
   "outputs": [],
   "source": [
    "import random"
   ]
  },
  {
   "cell_type": "code",
   "execution_count": 4,
   "metadata": {},
   "outputs": [],
   "source": [
    "import math"
   ]
  },
  {
   "cell_type": "code",
   "execution_count": 5,
   "metadata": {},
   "outputs": [
    {
     "data": {
      "text/plain": [
       "Text(0, 0.5, 'y')"
      ]
     },
     "execution_count": 5,
     "metadata": {},
     "output_type": "execute_result"
    },
    {
     "data": {
      "image/png": "[encoded data removed]",
      "text/plain": [
       "<Figure size 432x288 with 1 Axes>"
      ]
     },
     "metadata": {
      "needs_background": "light"
     },
     "output_type": "display_data"
    }
   ],
   "source": [
    "# 生成随机数据\n",
    "SIZE = 50\n",
    "X=np.linspace(0,10,SIZE)\n",
    "Y=3*X+10\n",
    "fig=plt.figure()\n",
    "ax1=fig.add_subplot(1,1,1)\n",
    "ax1.set_title(\"RANSAC\")\n",
    "\n",
    "rx=[]\n",
    "ry=[]\n",
    "\n",
    "for i in range(SIZE):\n",
    "    rx.append(X[i]+random.uniform(-0.5,0.5))\n",
    "    ry.append(Y[i]+random.uniform(-0.5,0.5))\n",
    "for i in range(SIZE):\n",
    "    rx.append(random.uniform(0,10))\n",
    "    ry.append(random.uniform(20,30))\n",
    "\n",
    "rx=np.array(rx)\n",
    "ry=np.array(ry)\n",
    "\n",
    "\n",
    "ax1.scatter(rx, ry)\n",
    "ax1.set_xlabel(\"x\")\n",
    "ax1.set_ylabel(\"y\")"
   ]
  },
  {
   "cell_type": "code",
   "execution_count": 13,
   "metadata": {},
   "outputs": [
    {
     "data": {
      "text/plain": [
       "[<matplotlib.lines.Line2D at 0x10f301410>]"
      ]
     },
     "execution_count": 13,
     "metadata": {},
     "output_type": "execute_result"
    },
    {
     "data": {
      "image/png": "[encoded data removed]",
      "text/plain": [
       "<Figure size 432x288 with 1 Axes>"
      ]
     },
     "metadata": {
      "needs_background": "light"
     },
     "output_type": "display_data"
    }
   ],
   "source": [
    "iter=1000\n",
    "th=0.25\n",
    "best_w=0\n",
    "best_b=0\n",
    "inliers_num=0\n",
    "P=0.99\n",
    "\n",
    "for i in range(iter):\n",
    "    sample_index=random.sample(range(SIZE*2),2)\n",
    "    w=(ry[sample_index[1]]-ry[sample_index[0]])/(rx[sample_index[1]]-rx[sample_index[0]])\n",
    "    b=ry[sample_index[0]]-w*rx[sample_index[0]]\n",
    "    total_inlier=0\n",
    "    for index in range(SIZE*2):\n",
    "        y_e = w * rx[index] +b\n",
    "        if( abs(y_e-ry[index]) < th ):\n",
    "            total_inlier+=1\n",
    "    if total_inlier > inliers_num:\n",
    "        iter = math.log(1-P)/math.log(1-pow(total_inlier / (SIZE*2),2))\n",
    "        best_w = w\n",
    "        best_b =b\n",
    "    if total_inlier > SIZE:\n",
    "        break\n",
    "\n",
    "Y = best_w*rx+b\n",
    "\n",
    "#print(rx)\n",
    "#print(Y)\n",
    "\n",
    "fig=plt.figure()\n",
    "ax1=fig.add_subplot(1,1,1)\n",
    "ax1.set_title(\"RANSAC\")\n",
    "ax1.scatter(rx, Y)\n",
    "ax1.set_xlabel(\"x\")\n",
    "ax1.set_ylabel(\"y\")\n",
    "ax1.plot(rx, Y)\n",
    "#text = \"best_a = \" + str(best_w) + \"\\nbest_b = \" + str(best_b)\n",
    "##plt.text(5,10, text,\n",
    "##         fontdict={'size': 8, 'color': 'r'})\n",
    "#plt.show()"
   ]
  },
  {
   "cell_type": "code",
   "execution_count": 14,
   "metadata": {},
   "outputs": [
    {
     "name": "stderr",
     "output_type": "stream",
     "text": [
      "/usr/local/lib/python3.7/site-packages/tensorflow/python/framework/dtypes.py:516: FutureWarning: Passing (type, 1) or '1type' as a synonym of type is deprecated; in a future version of numpy, it will be understood as (type, (1,)) / '(1,)type'.\n",
      "  _np_qint8 = np.dtype([(\"qint8\", np.int8, 1)])\n",
      "/usr/local/lib/python3.7/site-packages/tensorflow/python/framework/dtypes.py:517: FutureWarning: Passing (type, 1) or '1type' as a synonym of type is deprecated; in a future version of numpy, it will be understood as (type, (1,)) / '(1,)type'.\n",
      "  _np_quint8 = np.dtype([(\"quint8\", np.uint8, 1)])\n",
      "/usr/local/lib/python3.7/site-packages/tensorflow/python/framework/dtypes.py:518: FutureWarning: Passing (type, 1) or '1type' as a synonym of type is deprecated; in a future version of numpy, it will be understood as (type, (1,)) / '(1,)type'.\n",
      "  _np_qint16 = np.dtype([(\"qint16\", np.int16, 1)])\n",
      "/usr/local/lib/python3.7/site-packages/tensorflow/python/framework/dtypes.py:519: FutureWarning: Passing (type, 1) or '1type' as a synonym of type is deprecated; in a future version of numpy, it will be understood as (type, (1,)) / '(1,)type'.\n",
      "  _np_quint16 = np.dtype([(\"quint16\", np.uint16, 1)])\n",
      "/usr/local/lib/python3.7/site-packages/tensorflow/python/framework/dtypes.py:520: FutureWarning: Passing (type, 1) or '1type' as a synonym of type is deprecated; in a future version of numpy, it will be understood as (type, (1,)) / '(1,)type'.\n",
      "  _np_qint32 = np.dtype([(\"qint32\", np.int32, 1)])\n",
      "/usr/local/lib/python3.7/site-packages/tensorflow/python/framework/dtypes.py:525: FutureWarning: Passing (type, 1) or '1type' as a synonym of type is deprecated; in a future version of numpy, it will be understood as (type, (1,)) / '(1,)type'.\n",
      "  np_resource = np.dtype([(\"resource\", np.ubyte, 1)])\n",
      "/usr/local/lib/python3.7/site-packages/tensorboard/compat/tensorflow_stub/dtypes.py:541: FutureWarning: Passing (type, 1) or '1type' as a synonym of type is deprecated; in a future version of numpy, it will be understood as (type, (1,)) / '(1,)type'.\n",
      "  _np_qint8 = np.dtype([(\"qint8\", np.int8, 1)])\n",
      "/usr/local/lib/python3.7/site-packages/tensorboard/compat/tensorflow_stub/dtypes.py:542: FutureWarning: Passing (type, 1) or '1type' as a synonym of type is deprecated; in a future version of numpy, it will be understood as (type, (1,)) / '(1,)type'.\n",
      "  _np_quint8 = np.dtype([(\"quint8\", np.uint8, 1)])\n",
      "/usr/local/lib/python3.7/site-packages/tensorboard/compat/tensorflow_stub/dtypes.py:543: FutureWarning: Passing (type, 1) or '1type' as a synonym of type is deprecated; in a future version of numpy, it will be understood as (type, (1,)) / '(1,)type'.\n",
      "  _np_qint16 = np.dtype([(\"qint16\", np.int16, 1)])\n",
      "/usr/local/lib/python3.7/site-packages/tensorboard/compat/tensorflow_stub/dtypes.py:544: FutureWarning: Passing (type, 1) or '1type' as a synonym of type is deprecated; in a future version of numpy, it will be understood as (type, (1,)) / '(1,)type'.\n",
      "  _np_quint16 = np.dtype([(\"quint16\", np.uint16, 1)])\n",
      "/usr/local/lib/python3.7/site-packages/tensorboard/compat/tensorflow_stub/dtypes.py:545: FutureWarning: Passing (type, 1) or '1type' as a synonym of type is deprecated; in a future version of numpy, it will be understood as (type, (1,)) / '(1,)type'.\n",
      "  _np_qint32 = np.dtype([(\"qint32\", np.int32, 1)])\n",
      "/usr/local/lib/python3.7/site-packages/tensorboard/compat/tensorflow_stub/dtypes.py:550: FutureWarning: Passing (type, 1) or '1type' as a synonym of type is deprecated; in a future version of numpy, it will be understood as (type, (1,)) / '(1,)type'.\n",
      "  np_resource = np.dtype([(\"resource\", np.ubyte, 1)])\n"
     ]
    }
   ],
   "source": [
    "import tensorflow as tf"
   ]
  },
  {
   "cell_type": "code",
   "execution_count": 16,
   "metadata": {},
   "outputs": [],
   "source": [
    "f=tf.constant([2,3,1,0])"
   ]
  },
  {
   "cell_type": "code",
   "execution_count": 19,
   "metadata": {},
   "outputs": [],
   "source": [
    "embedding = tf.constant(\n",
    "        [[0.21,0.41,0.51,0.11],\n",
    "        [0.22,0.42,0.52,0.12],\n",
    "        [0.23,0.43,0.53,0.13],\n",
    "        [0.24,0.44,0.54,0.14]],dtype=tf.float32)"
   ]
  },
  {
   "cell_type": "code",
   "execution_count": 20,
   "metadata": {},
   "outputs": [],
   "source": [
    "get_embedding1 = tf.nn.embedding_lookup(embedding,f)"
   ]
  },
  {
   "cell_type": "code",
   "execution_count": 21,
   "metadata": {},
   "outputs": [
    {
     "data": {
      "text/plain": [
       "<tf.Tensor 'embedding_lookup/Identity:0' shape=(4, 4) dtype=float32>"
      ]
     },
     "execution_count": 21,
     "metadata": {},
     "output_type": "execute_result"
    }
   ],
   "source": [
    "get_embedding1"
   ]
  },
  {
   "cell_type": "code",
   "execution_count": 23,
   "metadata": {},
   "outputs": [
    {
     "name": "stdout",
     "output_type": "stream",
     "text": [
      "[[0.23 0.43 0.53 0.13]\n",
      " [0.24 0.44 0.54 0.14]\n",
      " [0.22 0.42 0.52 0.12]\n",
      " [0.21 0.41 0.51 0.11]]\n"
     ]
    }
   ],
   "source": [
    "with tf.Session() as sess:\n",
    "    print(sess.run(get_embedding1))"
   ]
  },
  {
   "cell_type": "code",
   "execution_count": null,
   "metadata": {},
   "outputs": [],
   "source": []
  }
 ],
 "metadata": {
  "kernelspec": {
   "display_name": "Python 3",
   "language": "python",
   "name": "python3"
  },
  "language_info": {
   "codemirror_mode": {
    "name": "ipython",
    "version": 3
   },
   "file_extension": ".py",
   "mimetype": "text/x-python",
   "name": "python",
   "nbconvert_exporter": "python",
   "pygments_lexer": "ipython3",
   "version": "3.7.5"
  }
 },
 "nbformat": 4,
 "nbformat_minor": 2
}
